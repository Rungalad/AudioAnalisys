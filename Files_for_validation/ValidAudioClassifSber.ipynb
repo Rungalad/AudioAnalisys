{
  "nbformat": 4,
  "nbformat_minor": 0,
  "metadata": {
    "colab": {
      "name": "ValidAudioClassifSber",
      "provenance": [],
      "collapsed_sections": [
        "81NOXAvZDWqi"
      ]
    },
    "kernelspec": {
      "name": "python3",
      "display_name": "Python 3"
    }
  },
  "cells": [
    {
      "cell_type": "code",
      "metadata": {
        "id": "eNO2ILVFBH5x",
        "colab_type": "code",
        "colab": {}
      },
      "source": [
        "import librosa\n",
        "import librosa.display\n",
        "import numpy as np\n",
        "import matplotlib.pyplot as plt\n",
        "import os, sys, copy, time, csv, pickle, PIL\n",
        "\n",
        "import sklearn\n",
        "from sklearn import tree as tr\n",
        "from sklearn import ensemble as ens\n",
        "from sklearn import model_selection as ms\n",
        "from sklearn import linear_model as lm\n",
        "from sklearn import metrics as mt\n",
        "\n",
        "import hyperopt as hpt\n",
        "from hyperopt import hp, tpe\n",
        "from hyperopt.fmin import fmin\n",
        "\n",
        "import shap"
      ],
      "execution_count": 34,
      "outputs": []
    },
    {
      "cell_type": "markdown",
      "metadata": {
        "id": "81NOXAvZDWqi",
        "colab_type": "text"
      },
      "source": [
        "## Data load (data has been already transformed into tabular feature form)"
      ]
    },
    {
      "cell_type": "code",
      "metadata": {
        "id": "p3iBQxHGBPQf",
        "colab_type": "code",
        "colab": {}
      },
      "source": [
        "def DataLoad(name):\n",
        "  ff = open(name, 'r')\n",
        "  rdr = csv.reader(ff)\n",
        "  data0 = [row for row in rdr]\n",
        "  data = np.array(data0[1:])[:, 1:].astype(float)\n",
        "  ff.close()\n",
        "  return data"
      ],
      "execution_count": 45,
      "outputs": []
    },
    {
      "cell_type": "code",
      "metadata": {
        "id": "CyVvRVAgBy-9",
        "colab_type": "code",
        "colab": {}
      },
      "source": [
        "data_bad = DataLoad(r'dataset_bad_new.csv')\n",
        "data_good = DataLoad(r'dataset_good_new.csv')\n",
        "data_bad_new = DataLoad(r'dataset_bad1_upd.csv')\n",
        "data_good_new = DataLoad(r'dataset_good1_upd.csv')\n",
        "\n",
        "X = np.concatenate([data_bad, data_good, data_bad_new, data_good_new], axis = 0)\n",
        "Y = np.array(data_bad.shape[0]*[0] + data_good.shape[0]*[1] + data_bad_new.shape[0]*[0] + data_good_new.shape[0]*[1])\n",
        "all_ = np.concatenate([X, np.expand_dims(Y, axis = -1)], axis = -1)\n",
        "\n",
        "np.random.shuffle(all_)\n",
        "\n",
        "all_train = all_[:-int(X.shape[0]*0.3)]\n",
        "all_test = all_[-int(X.shape[0]*0.3):]\n",
        "\n",
        "X_tr = all_train[:, :-1]\n",
        "Y_tr = all_train[:, -1]\n",
        "X_te = all_test[:, :-1]\n",
        "Y_te = all_test[:, -1]"
      ],
      "execution_count": 94,
      "outputs": []
    },
    {
      "cell_type": "code",
      "metadata": {
        "id": "xJB7aqNq2Uo2",
        "colab_type": "code",
        "colab": {
          "base_uri": "https://localhost:8080/",
          "height": 335
        },
        "outputId": "a8d4cdab-e135-4db2-f41d-762f7d132410"
      },
      "source": [
        "plt.hist(Y_tr)"
      ],
      "execution_count": 122,
      "outputs": [
        {
          "output_type": "execute_result",
          "data": {
            "text/plain": [
              "(array([ 2517.,     0.,     0.,     0.,     0.,     0.,     0.,     0.,\n",
              "            0., 23912.]),\n",
              " array([0. , 0.1, 0.2, 0.3, 0.4, 0.5, 0.6, 0.7, 0.8, 0.9, 1. ]),\n",
              " <a list of 10 Patch objects>)"
            ]
          },
          "metadata": {
            "tags": []
          },
          "execution_count": 122
        },
        {
          "output_type": "display_data",
          "data": {
            "image/png": "[encoded data removed]",
            "text/plain": [
              "<Figure size 432x288 with 1 Axes>"
            ]
          },
          "metadata": {
            "tags": [],
            "needs_background": "light"
          }
        }
      ]
    },
    {
      "cell_type": "markdown",
      "metadata": {
        "id": "INaJHDUUDh2w",
        "colab_type": "text"
      },
      "source": [
        "## Model training(load) and testing"
      ]
    },
    {
      "cell_type": "code",
      "metadata": {
        "id": "YJ_WFZNfG2tu",
        "colab_type": "code",
        "colab": {}
      },
      "source": [
        "def sigmoidmy(x):\n",
        "  return (1/(1 + np.exp(-x)) - 0.5)*2\n",
        "\n",
        "def TPFPTNFN(y, y_pred):\n",
        "    d = {'TP': 0, 'FP': 0, 'TN': 0, 'FN': 0}\n",
        "    for i in range(len(y)):\n",
        "        if (y[i]==1) and (y_pred[i]==1): d['TP'] = d['TP'] + 1 \n",
        "        if (y[i]==1) and (y_pred[i]==0): d['FN'] = d['FN'] + 1 \n",
        "        if (y[i]==0) and (y_pred[i]==1): d['FP'] = d['FP'] + 1 \n",
        "        if (y[i]==0) and (y_pred[i]==0): d['TN'] = d['TN'] + 1 \n",
        "    return d\n",
        "\n",
        "def MetricAlgo(est, X, Y, hyper=8):\n",
        "  prom = TPFPTNFN(Y, est.predict(X))\n",
        "  prom1 = 1 - mt.roc_auc_score(Y, est.predict(X))\n",
        "  prom2 = (prom['FN']*hyper + prom['FP'] + 10e-6)\n",
        "  current_score = prom2*prom1\n",
        "  return current_score\n",
        "\n",
        "def FBloss(est, X, Y, beta=10):\n",
        "  current_score = mt.fbeta_score(Y, est.predict(X), beta=beta)\n",
        "  return 1 - current_score"
      ],
      "execution_count": 162,
      "outputs": []
    },
    {
      "cell_type": "code",
      "metadata": {
        "id": "ddBThMQ7FmCf",
        "colab_type": "code",
        "colab": {
          "base_uri": "https://localhost:8080/",
          "height": 34
        },
        "outputId": "7564712e-11ae-4e08-c310-00eb153a504a"
      },
      "source": [
        "N = 100\n",
        "LL = [{0: 0.3 + 0.7*i/N, 1: 0.7*(N-i)/N} for i in  range(N)]\n",
        "\n",
        "def Tree_score(params):\n",
        "    TR = tr.DecisionTreeClassifier(**params)\n",
        "    current_score = ms.cross_val_score(TR, X_tr, Y_tr, scoring=MetricAlgo, cv=10).mean()\n",
        "    return current_score\n",
        " \n",
        " \n",
        "tree_params = {\n",
        "            'criterion': hp.choice('criterion', ['gini', 'entropy']),\n",
        "            'max_depth': hp.choice('max_depth', range(5, 30)),\n",
        "            'min_samples_split':  hp.choice('min_samples_split', range(5, 10)),\n",
        "            'min_samples_leaf': hp.choice('min_samples_leaf', range(5, 10)),\n",
        "            'class_weight': hp.choice('class_weight', ['balanced']+LL)\n",
        "}\n",
        " \n",
        "TRbest = fmin(fn=Tree_score, space=tree_params, max_evals=25, algo=hpt.rand.suggest, return_argmin=True)\n",
        "print('\\nBest:')\n",
        "print(TRbest) "
      ],
      "execution_count": null,
      "outputs": [
        {
          "output_type": "stream",
          "text": [
            " 12%|█▏        | 3/25 [00:33<04:13, 11.50s/it, best loss: 389.001865602787]"
          ],
          "name": "stdout"
        }
      ]
    },
    {
      "cell_type": "code",
      "metadata": {
        "id": "ncam1mCpNPCp",
        "colab_type": "code",
        "colab": {
          "base_uri": "https://localhost:8080/",
          "height": 168
        },
        "outputId": "3a9f4c1c-e1fb-4dcc-9bdc-39413147fcf5"
      },
      "source": [
        "TR = tr.DecisionTreeClassifier(criterion = ['gini', 'entropy'][TRbest['criterion']],\n",
        "                               max_depth = list(range(2, 50))[TRbest['max_depth']],\n",
        "                               min_samples_leaf = list(range(2, 20))[TRbest['min_samples_leaf']],\n",
        "                               min_samples_split = list(range(2, 10))[TRbest['min_samples_split']],\n",
        "                               class_weight = (['balanced']+LL)[TRbest['class_weight']],\n",
        "                              )\n",
        "TR.fit(X_tr, Y_tr)"
      ],
      "execution_count": 148,
      "outputs": [
        {
          "output_type": "execute_result",
          "data": {
            "text/plain": [
              "DecisionTreeClassifier(ccp_alpha=0.0,\n",
              "                       class_weight={0: 0.9509999999999998,\n",
              "                                     1: 0.048999999999999995},\n",
              "                       criterion='entropy', max_depth=13, max_features=None,\n",
              "                       max_leaf_nodes=None, min_impurity_decrease=0.0,\n",
              "                       min_impurity_split=None, min_samples_leaf=5,\n",
              "                       min_samples_split=6, min_weight_fraction_leaf=0.0,\n",
              "                       presort='deprecated', random_state=None,\n",
              "                       splitter='best')"
            ]
          },
          "metadata": {
            "tags": []
          },
          "execution_count": 148
        }
      ]
    },
    {
      "cell_type": "code",
      "metadata": {
        "id": "SDEVEYXIeEkf",
        "colab_type": "code",
        "colab": {
          "base_uri": "https://localhost:8080/",
          "height": 315
        },
        "outputId": "31e39d45-0b85-4b0e-b278-160ceb6989ee"
      },
      "source": [
        "plt.hist(TR.predict(X_tr))\n",
        "print('ROCAUCtr:', mt.roc_auc_score(Y_tr, TR.predict(X_tr)))\n",
        "print('ROCAUCte:', mt.roc_auc_score(Y_te, TR.predict(X_te)))\n",
        "print(TPFPTNFN(Y_tr, TR.predict(X_tr)))"
      ],
      "execution_count": 149,
      "outputs": [
        {
          "output_type": "stream",
          "text": [
            "ROCAUCtr: 0.8032994656077715\n",
            "ROCAUCte: 0.6157865464277347\n",
            "{'TP': 14809, 'FP': 32, 'TN': 2485, 'FN': 9103}\n"
          ],
          "name": "stdout"
        },
        {
          "output_type": "display_data",
          "data": {
            "image/png": "[encoded data removed]",
            "text/plain": [
              "<Figure size 432x288 with 1 Axes>"
            ]
          },
          "metadata": {
            "tags": [],
            "needs_background": "light"
          }
        }
      ]
    },
    {
      "cell_type": "code",
      "metadata": {
        "id": "6OW-HOxyAQDU",
        "colab_type": "code",
        "colab": {
          "base_uri": "https://localhost:8080/",
          "height": 50
        },
        "outputId": "90d73fff-6f82-4b80-8fe5-90fbccff9ee0"
      },
      "source": [
        "MetricAlgo(TR, X_tr, Y_tr, hyper=10)"
      ],
      "execution_count": 157,
      "outputs": [
        {
          "output_type": "stream",
          "text": [
            "2.0\n"
          ],
          "name": "stdout"
        },
        {
          "output_type": "execute_result",
          "data": {
            "text/plain": [
              "2.1967005343922286"
            ]
          },
          "metadata": {
            "tags": []
          },
          "execution_count": 157
        }
      ]
    },
    {
      "cell_type": "code",
      "metadata": {
        "id": "xwuCziGIbtdc",
        "colab_type": "code",
        "colab": {}
      },
      "source": [
        "def Bag_score(params):\n",
        "    BA = ens.BaggingClassifier(**params)\n",
        "    current_score = ms.cross_val_score(BA, X_tr, Y_tr, scoring=MetricAlgo, cv=10).mean()\n",
        "    return current_score\n",
        "\n",
        "bag_params = {\n",
        "            'base_estimator': hp.choice('base_estimator', [TR, ]),\n",
        "            'n_estimators': hp.choice('n_estimators', range(10, 30)),\n",
        "            'max_features':  hp.choice('max_features', np.arange(0.5, 1, 0.1)),\n",
        "            'max_samples':  hp.choice('max_samples', np.arange(0.5, 1, 0.1))\n",
        "}\n",
        " \n",
        "BAbest = fmin(fn=Bag_score, space=bag_params, max_evals=10, algo=hpt.rand.suggest, return_argmin=True) #~100\n",
        "print('\\nBest:')\n",
        "print(BAbest) "
      ],
      "execution_count": null,
      "outputs": []
    },
    {
      "cell_type": "code",
      "metadata": {
        "id": "oghLncM9lp7W",
        "colab_type": "code",
        "colab": {
          "base_uri": "https://localhost:8080/",
          "height": 34
        },
        "outputId": "00164162-8b4b-4ce9-b082-aea763be5349"
      },
      "source": [
        "BA = ens.BaggingClassifier(base_estimator=TR,\n",
        "                           n_estimators=range(2, 30)[BAbest['n_estimators']],\n",
        "                           max_features = np.arange(0.4, 1+0.1, 0.1)[BAbest['max_features']], )"
      ],
      "execution_count": 91,
      "outputs": [
        {
          "output_type": "stream",
          "text": [
            "0.6097492602459875\n"
          ],
          "name": "stdout"
        }
      ]
    },
    {
      "cell_type": "code",
      "metadata": {
        "id": "3GYTuvSyRBea",
        "colab_type": "code",
        "colab": {}
      },
      "source": [
        "plt.hist(BA.predict(X_tr))\n",
        "print('ROCAUCtr:', mt.roc_auc_score(Y_tr, BA.predict(X_tr)))\n",
        "print('ROCAUCte:', mt.roc_auc_score(Y_te, BA.predict(X_te)))"
      ],
      "execution_count": null,
      "outputs": []
    },
    {
      "cell_type": "markdown",
      "metadata": {
        "id": "OdH-uYEhYeiX",
        "colab_type": "text"
      },
      "source": [
        "## Feature importance"
      ]
    },
    {
      "cell_type": "code",
      "metadata": {
        "id": "0dLd7NtHs5xg",
        "colab_type": "code",
        "colab": {}
      },
      "source": [
        "W_forest_new = pickle.loads(pickle.load(open(r'last_model.pkl', 'rb')))\n",
        "DF = pd.DataFrame(X_tr, columns=Header)\n",
        "#W_forest_new"
      ],
      "execution_count": null,
      "outputs": []
    },
    {
      "cell_type": "code",
      "metadata": {
        "id": "au0jz9vXYgsO",
        "colab_type": "code",
        "colab": {}
      },
      "source": [
        "# Tree on Random Forest explainer\n",
        "explainerRF = shap.TreeExplainer(W_forest_new)\n",
        "shap_values_RF_train = explainerRF.shap_values(DF)"
      ],
      "execution_count": null,
      "outputs": []
    },
    {
      "cell_type": "code",
      "metadata": {
        "id": "E2T21acUYpHr",
        "colab_type": "code",
        "colab": {}
      },
      "source": [
        "shap.initjs()\n",
        "shap.summary_plot(shap_values_RF_test[0], DF)"
      ],
      "execution_count": null,
      "outputs": []
    },
    {
      "cell_type": "code",
      "metadata": {
        "id": "Ze7jpt7a7iRM",
        "colab_type": "code",
        "colab": {}
      },
      "source": [
        "shp_plt = shap.dependence_plot(\"mfcc2\", shap_values_RF_train1[0], DF)"
      ],
      "execution_count": null,
      "outputs": []
    },
    {
      "cell_type": "code",
      "metadata": {
        "id": "iuga18f58vch",
        "colab_type": "code",
        "colab": {}
      },
      "source": [
        "J = 105\n",
        "shap.initjs()\n",
        "shap.force_plot(explainerRF1.expected_value[0], shap_values_RF_train1[0][J], DF.iloc[[J]])"
      ],
      "execution_count": null,
      "outputs": []
    }
  ]
}